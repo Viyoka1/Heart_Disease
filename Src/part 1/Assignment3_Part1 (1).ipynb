{
 "cells": [
  {
   "cell_type": "code",
   "execution_count": null,
   "id": "485cf7db-0f9d-49db-aa68-e6e9d551d58f",
   "metadata": {},
   "outputs": [],
   "source": [
    "# Question1: Predicting Heart Disease"
   ]
  },
  {
   "cell_type": "code",
   "execution_count": null,
   "id": "132f87be-a7ae-4d20-89f4-df45963516d8",
   "metadata": {},
   "outputs": [],
   "source": [
    "# A. Read the data file “Hearts_s.csv” (from github using the following command), and assign it to a Pandas DataFrame:  \n",
    "# df = pd.read_csv(\"https://github.com/mpourhoma/CS4661/raw/master/Heart_s2.csv\") "
   ]
  },
  {
   "cell_type": "code",
   "execution_count": 4,
   "id": "28a916ef-0198-464e-8eec-6e402fbfa7c5",
   "metadata": {},
   "outputs": [],
   "source": [
    "import pandas as pd\n",
    "from sklearn.model_selection import train_test_split\n",
    "from sklearn.neighbors import KNeighborsClassifier\n",
    "from sklearn.tree import DecisionTreeClassifier\n",
    "from sklearn.linear_model import LogisticRegression\n",
    "from sklearn.metrics import accuracy_score\n",
    "from sklearn.model_selection import cross_val_score\n",
    "from sklearn.preprocessing import OneHotEncoder"
   ]
  },
  {
   "cell_type": "code",
   "execution_count": 5,
   "id": "d8ed0350-7be9-457b-a5a3-ed692ed399d3",
   "metadata": {},
   "outputs": [
    {
     "data": {
      "text/html": [
       "<div>\n",
       "<style scoped>\n",
       "    .dataframe tbody tr th:only-of-type {\n",
       "        vertical-align: middle;\n",
       "    }\n",
       "\n",
       "    .dataframe tbody tr th {\n",
       "        vertical-align: top;\n",
       "    }\n",
       "\n",
       "    .dataframe thead th {\n",
       "        text-align: right;\n",
       "    }\n",
       "</style>\n",
       "<table border=\"1\" class=\"dataframe\">\n",
       "  <thead>\n",
       "    <tr style=\"text-align: right;\">\n",
       "      <th></th>\n",
       "      <th>Age</th>\n",
       "      <th>ChestPain</th>\n",
       "      <th>RestBP</th>\n",
       "      <th>Chol</th>\n",
       "      <th>RestECG</th>\n",
       "      <th>MaxHR</th>\n",
       "      <th>Oldpeak</th>\n",
       "      <th>Thal</th>\n",
       "      <th>AHD</th>\n",
       "    </tr>\n",
       "  </thead>\n",
       "  <tbody>\n",
       "    <tr>\n",
       "      <th>0</th>\n",
       "      <td>63</td>\n",
       "      <td>typical</td>\n",
       "      <td>145</td>\n",
       "      <td>233</td>\n",
       "      <td>2</td>\n",
       "      <td>150</td>\n",
       "      <td>2.3</td>\n",
       "      <td>fixed</td>\n",
       "      <td>No</td>\n",
       "    </tr>\n",
       "    <tr>\n",
       "      <th>1</th>\n",
       "      <td>67</td>\n",
       "      <td>asymptomatic</td>\n",
       "      <td>160</td>\n",
       "      <td>286</td>\n",
       "      <td>2</td>\n",
       "      <td>108</td>\n",
       "      <td>1.5</td>\n",
       "      <td>normal</td>\n",
       "      <td>Yes</td>\n",
       "    </tr>\n",
       "    <tr>\n",
       "      <th>2</th>\n",
       "      <td>67</td>\n",
       "      <td>asymptomatic</td>\n",
       "      <td>120</td>\n",
       "      <td>229</td>\n",
       "      <td>2</td>\n",
       "      <td>129</td>\n",
       "      <td>2.6</td>\n",
       "      <td>reversable</td>\n",
       "      <td>Yes</td>\n",
       "    </tr>\n",
       "    <tr>\n",
       "      <th>3</th>\n",
       "      <td>37</td>\n",
       "      <td>nonanginal</td>\n",
       "      <td>130</td>\n",
       "      <td>250</td>\n",
       "      <td>0</td>\n",
       "      <td>187</td>\n",
       "      <td>3.5</td>\n",
       "      <td>normal</td>\n",
       "      <td>No</td>\n",
       "    </tr>\n",
       "    <tr>\n",
       "      <th>4</th>\n",
       "      <td>41</td>\n",
       "      <td>nontypical</td>\n",
       "      <td>130</td>\n",
       "      <td>204</td>\n",
       "      <td>2</td>\n",
       "      <td>172</td>\n",
       "      <td>1.4</td>\n",
       "      <td>normal</td>\n",
       "      <td>No</td>\n",
       "    </tr>\n",
       "  </tbody>\n",
       "</table>\n",
       "</div>"
      ],
      "text/plain": [
       "   Age     ChestPain  RestBP  Chol  RestECG  MaxHR  Oldpeak        Thal  AHD\n",
       "0   63       typical     145   233        2    150      2.3       fixed   No\n",
       "1   67  asymptomatic     160   286        2    108      1.5      normal  Yes\n",
       "2   67  asymptomatic     120   229        2    129      2.6  reversable  Yes\n",
       "3   37    nonanginal     130   250        0    187      3.5      normal   No\n",
       "4   41    nontypical     130   204        2    172      1.4      normal   No"
      ]
     },
     "execution_count": 5,
     "metadata": {},
     "output_type": "execute_result"
    }
   ],
   "source": [
    "df = pd.read_csv(r'C:\\Users\\Viyok\\Downloads\\Heart_s2.csv')\n",
    "df.head()"
   ]
  },
  {
   "cell_type": "code",
   "execution_count": 6,
   "id": "41f07c56-c4dc-411a-be83-2f060fe58dbc",
   "metadata": {},
   "outputs": [],
   "source": [
    "#B. Check out the dataset"
   ]
  },
  {
   "cell_type": "code",
   "execution_count": 14,
   "id": "83c735bd-0370-490b-9934-2cf6fccbf96d",
   "metadata": {},
   "outputs": [
    {
     "name": "stdout",
     "output_type": "stream",
     "text": [
      "<class 'pandas.core.frame.DataFrame'>\n",
      "RangeIndex: 301 entries, 0 to 300\n",
      "Data columns (total 9 columns):\n",
      " #   Column     Non-Null Count  Dtype  \n",
      "---  ------     --------------  -----  \n",
      " 0   Age        301 non-null    int64  \n",
      " 1   ChestPain  301 non-null    object \n",
      " 2   RestBP     301 non-null    int64  \n",
      " 3   Chol       301 non-null    int64  \n",
      " 4   RestECG    301 non-null    int64  \n",
      " 5   MaxHR      301 non-null    int64  \n",
      " 6   Oldpeak    301 non-null    float64\n",
      " 7   Thal       301 non-null    object \n",
      " 8   AHD        301 non-null    object \n",
      "dtypes: float64(1), int64(5), object(3)\n",
      "memory usage: 21.3+ KB\n"
     ]
    },
    {
     "data": {
      "text/html": [
       "<div>\n",
       "<style scoped>\n",
       "    .dataframe tbody tr th:only-of-type {\n",
       "        vertical-align: middle;\n",
       "    }\n",
       "\n",
       "    .dataframe tbody tr th {\n",
       "        vertical-align: top;\n",
       "    }\n",
       "\n",
       "    .dataframe thead th {\n",
       "        text-align: right;\n",
       "    }\n",
       "</style>\n",
       "<table border=\"1\" class=\"dataframe\">\n",
       "  <thead>\n",
       "    <tr style=\"text-align: right;\">\n",
       "      <th></th>\n",
       "      <th>Age</th>\n",
       "      <th>RestBP</th>\n",
       "      <th>Chol</th>\n",
       "      <th>RestECG</th>\n",
       "      <th>MaxHR</th>\n",
       "      <th>Oldpeak</th>\n",
       "    </tr>\n",
       "  </thead>\n",
       "  <tbody>\n",
       "    <tr>\n",
       "      <th>count</th>\n",
       "      <td>301.000000</td>\n",
       "      <td>301.000000</td>\n",
       "      <td>301.000000</td>\n",
       "      <td>301.000000</td>\n",
       "      <td>301.000000</td>\n",
       "      <td>301.000000</td>\n",
       "    </tr>\n",
       "    <tr>\n",
       "      <th>mean</th>\n",
       "      <td>54.451827</td>\n",
       "      <td>131.714286</td>\n",
       "      <td>246.936877</td>\n",
       "      <td>0.990033</td>\n",
       "      <td>149.700997</td>\n",
       "      <td>1.043189</td>\n",
       "    </tr>\n",
       "    <tr>\n",
       "      <th>std</th>\n",
       "      <td>9.067258</td>\n",
       "      <td>17.655729</td>\n",
       "      <td>51.859869</td>\n",
       "      <td>0.994937</td>\n",
       "      <td>22.860817</td>\n",
       "      <td>1.163384</td>\n",
       "    </tr>\n",
       "    <tr>\n",
       "      <th>min</th>\n",
       "      <td>29.000000</td>\n",
       "      <td>94.000000</td>\n",
       "      <td>126.000000</td>\n",
       "      <td>0.000000</td>\n",
       "      <td>71.000000</td>\n",
       "      <td>0.000000</td>\n",
       "    </tr>\n",
       "    <tr>\n",
       "      <th>25%</th>\n",
       "      <td>48.000000</td>\n",
       "      <td>120.000000</td>\n",
       "      <td>211.000000</td>\n",
       "      <td>0.000000</td>\n",
       "      <td>134.000000</td>\n",
       "      <td>0.000000</td>\n",
       "    </tr>\n",
       "    <tr>\n",
       "      <th>50%</th>\n",
       "      <td>56.000000</td>\n",
       "      <td>130.000000</td>\n",
       "      <td>242.000000</td>\n",
       "      <td>1.000000</td>\n",
       "      <td>153.000000</td>\n",
       "      <td>0.800000</td>\n",
       "    </tr>\n",
       "    <tr>\n",
       "      <th>75%</th>\n",
       "      <td>61.000000</td>\n",
       "      <td>140.000000</td>\n",
       "      <td>275.000000</td>\n",
       "      <td>2.000000</td>\n",
       "      <td>166.000000</td>\n",
       "      <td>1.600000</td>\n",
       "    </tr>\n",
       "    <tr>\n",
       "      <th>max</th>\n",
       "      <td>77.000000</td>\n",
       "      <td>200.000000</td>\n",
       "      <td>564.000000</td>\n",
       "      <td>2.000000</td>\n",
       "      <td>202.000000</td>\n",
       "      <td>6.200000</td>\n",
       "    </tr>\n",
       "  </tbody>\n",
       "</table>\n",
       "</div>"
      ],
      "text/plain": [
       "              Age      RestBP        Chol     RestECG       MaxHR     Oldpeak\n",
       "count  301.000000  301.000000  301.000000  301.000000  301.000000  301.000000\n",
       "mean    54.451827  131.714286  246.936877    0.990033  149.700997    1.043189\n",
       "std      9.067258   17.655729   51.859869    0.994937   22.860817    1.163384\n",
       "min     29.000000   94.000000  126.000000    0.000000   71.000000    0.000000\n",
       "25%     48.000000  120.000000  211.000000    0.000000  134.000000    0.000000\n",
       "50%     56.000000  130.000000  242.000000    1.000000  153.000000    0.800000\n",
       "75%     61.000000  140.000000  275.000000    2.000000  166.000000    1.600000\n",
       "max     77.000000  200.000000  564.000000    2.000000  202.000000    6.200000"
      ]
     },
     "execution_count": 14,
     "metadata": {},
     "output_type": "execute_result"
    }
   ],
   "source": [
    "#Display information about dataset\n",
    "df.info()\n",
    "# Display summary statistics for numerical columns\n",
    "df.describe()"
   ]
  },
  {
   "cell_type": "code",
   "execution_count": null,
   "id": "2ca960d9-151c-4aaa-b23a-ea34bf904f26",
   "metadata": {},
   "outputs": [],
   "source": [
    "#C. Drop Categorical features (ChestPain, Thal) and the label (AHD) to keep only numerical Features"
   ]
  },
  {
   "cell_type": "code",
   "execution_count": 16,
   "id": "d301c20b-8b0b-4986-99b5-1d48b98325fa",
   "metadata": {},
   "outputs": [
    {
     "data": {
      "text/plain": [
       "(   Age  RestBP  Chol  RestECG  MaxHR  Oldpeak\n",
       " 0   63     145   233        2    150      2.3\n",
       " 1   67     160   286        2    108      1.5\n",
       " 2   67     120   229        2    129      2.6\n",
       " 3   37     130   250        0    187      3.5\n",
       " 4   41     130   204        2    172      1.4,\n",
       " 0     No\n",
       " 1    Yes\n",
       " 2    Yes\n",
       " 3     No\n",
       " 4     No\n",
       " Name: AHD, dtype: object)"
      ]
     },
     "execution_count": 16,
     "metadata": {},
     "output_type": "execute_result"
    }
   ],
   "source": [
    "X = df.drop(columns=['ChestPain', 'Thal', 'AHD'])  # Feature matrix\n",
    "y = df['AHD']  # Label vector\n",
    "\n",
    "# Check the features and labels\n",
    "X.head(), y.head()"
   ]
  },
  {
   "cell_type": "code",
   "execution_count": null,
   "id": "3a7dff22-e618-4e11-aab6-27345e4a7c52",
   "metadata": {},
   "outputs": [],
   "source": [
    "#D. Split the Data from Training and Testing Sets"
   ]
  },
  {
   "cell_type": "code",
   "execution_count": 18,
   "id": "3dcffbb1-4871-4fbb-9864-265dfb1d9d2f",
   "metadata": {},
   "outputs": [],
   "source": [
    "X_train, X_test, y_train, y_test = train_test_split(X, y, test_size=0.20, random_state=9)"
   ]
  },
  {
   "cell_type": "code",
   "execution_count": null,
   "id": "662f1953-25c6-423f-958d-56cf92027a7c",
   "metadata": {},
   "outputs": [],
   "source": [
    "#E.Use KNN, Decision Tree, and Logistic Regression Classifiers"
   ]
  },
  {
   "cell_type": "code",
   "execution_count": 26,
   "id": "a0b6f982-5748-4fe0-843a-a9c704834174",
   "metadata": {},
   "outputs": [
    {
     "name": "stdout",
     "output_type": "stream",
     "text": [
      "KNN Classifier Accuracy: 0.62295\n",
      "Decision Tree Classifier Accuracy: 0.68852\n",
      "Logistic Regression Classifier Accuracy: 0.72131\n"
     ]
    }
   ],
   "source": [
    "# KNN Classifier\n",
    "knn = KNeighborsClassifier(n_neighbors=7)\n",
    "knn.fit(X_train, y_train)\n",
    "knn_pred = knn.predict(X_test)\n",
    "knn_accuracy = accuracy_score(y_test, knn_pred)\n",
    "print(f\"KNN Classifier Accuracy: {knn_accuracy:.5f}\")\n",
    "\n",
    "# Decision Tree Classifier\n",
    "decision_tree = DecisionTreeClassifier(random_state=5)\n",
    "decision_tree.fit(X_train, y_train)\n",
    "dt_pred = decision_tree.predict(X_test)\n",
    "dt_accuracy = accuracy_score(y_test, dt_pred)\n",
    "print(f\"Decision Tree Classifier Accuracy: {dt_accuracy:.5f}\")\n",
    "\n",
    "# Logistic Regression Classifier\n",
    "logistic_regression = LogisticRegression(max_iter=400)\n",
    "logistic_regression.fit(X_train, y_train)\n",
    "lr_pred = logistic_regression.predict(X_test)\n",
    "lr_accuracy = accuracy_score(y_test, lr_pred)\n",
    "print(f\"Logistic Regression Classifier Accuracy: {lr_accuracy:.5f}\")\n"
   ]
  },
  {
   "cell_type": "code",
   "execution_count": null,
   "id": "52122dd4-b5ab-41c8-9a8a-351a726949d7",
   "metadata": {},
   "outputs": [],
   "source": [
    "#F.Perform One-Hot Encoding for Categorical Features"
   ]
  },
  {
   "cell_type": "code",
   "execution_count": 30,
   "id": "c903306a-f696-4831-acf8-792ea96b0900",
   "metadata": {},
   "outputs": [
    {
     "name": "stdout",
     "output_type": "stream",
     "text": [
      "Shape of the encoded dataframe: (301, 14)\n",
      "\n",
      "Encoded Columns:\n",
      "   ChestPain_asymptomatic  ChestPain_nonanginal  ChestPain_nontypical  \\\n",
      "0                       0                     0                     0   \n",
      "1                       1                     0                     0   \n",
      "2                       1                     0                     0   \n",
      "3                       0                     1                     0   \n",
      "4                       0                     0                     1   \n",
      "\n",
      "   ChestPain_typical  Thal_fixed  Thal_normal  Thal_reversable  \n",
      "0                  1           1            0                0  \n",
      "1                  0           0            1                0  \n",
      "2                  0           0            0                1  \n",
      "3                  0           0            1                0  \n",
      "4                  0           0            1                0  \n"
     ]
    }
   ],
   "source": [
    "df_encoded = pd.get_dummies(df, columns=['ChestPain', 'Thal'], drop_first=False)\n",
    "\n",
    "# Check the shape of the new DataFrame to ensure the encoding was applied\n",
    "print(\"Shape of the encoded dataframe:\", df_encoded.shape)\n",
    "\n",
    "# Convert the encoded columns to integer type (from default float) for binary values\n",
    "for col in df_encoded.columns:\n",
    "    if 'ChestPain' in col or 'Thal' in col:\n",
    "        df_encoded[col] = df_encoded[col].astype(int)\n",
    "\n",
    "# Display a few rows of the encoded columns to verify the results\n",
    "encoded_columns = [col for col in df_encoded.columns if 'ChestPain' in col or 'Thal' in col]\n",
    "print(\"\\nEncoded Columns:\")\n",
    "print(df_encoded[encoded_columns].head())"
   ]
  },
  {
   "cell_type": "code",
   "execution_count": null,
   "id": "40e1ceb5-48a5-458b-942c-a114a5bb482f",
   "metadata": {},
   "outputs": [],
   "source": [
    "#G.Repeat Training and Testing with Encoded Data "
   ]
  },
  {
   "cell_type": "code",
   "execution_count": 32,
   "id": "2c67b622-761d-4538-9483-630ee4a654c9",
   "metadata": {},
   "outputs": [
    {
     "name": "stdout",
     "output_type": "stream",
     "text": [
      "KNN Classifier Accuracy: 0.62295\n",
      "Decision Tree Classifier Accuracy: 0.73770\n",
      "Logistic Regression Classifier Accuracy: 0.78689\n"
     ]
    },
    {
     "name": "stderr",
     "output_type": "stream",
     "text": [
      "C:\\Users\\Viyok\\anaconda3\\Lib\\site-packages\\sklearn\\linear_model\\_logistic.py:469: ConvergenceWarning: lbfgs failed to converge (status=1):\n",
      "STOP: TOTAL NO. of ITERATIONS REACHED LIMIT.\n",
      "\n",
      "Increase the number of iterations (max_iter) or scale the data as shown in:\n",
      "    https://scikit-learn.org/stable/modules/preprocessing.html\n",
      "Please also refer to the documentation for alternative solver options:\n",
      "    https://scikit-learn.org/stable/modules/linear_model.html#logistic-regression\n",
      "  n_iter_i = _check_optimize_result(\n"
     ]
    }
   ],
   "source": [
    "# Encode the target vector (AHD) as binary: 1 for 'Yes' and 0 for 'No'\n",
    "y = df_encoded['AHD'].apply(lambda x: 1 if x == 'Yes' else 0)\n",
    "\n",
    "# Define the feature matrix by removing the target column\n",
    "X = df_encoded.drop(columns=['AHD'])\n",
    "\n",
    "# Split the encoded data into training and testing sets\n",
    "X_train, X_test, y_train, y_test = train_test_split(X, y, test_size=0.20, random_state=9)\n",
    "\n",
    "# KNN Classifier\n",
    "knn = KNeighborsClassifier(n_neighbors=7)\n",
    "knn.fit(X_train, y_train)\n",
    "y_pred_knn = knn.predict(X_test)\n",
    "knn_accuracy = accuracy_score(y_test, y_pred_knn)\n",
    "print(f\"KNN Classifier Accuracy: {knn_accuracy:.5f}\")\n",
    "\n",
    "# Decision Tree Classifier\n",
    "decision_tree = DecisionTreeClassifier(random_state=5)\n",
    "decision_tree.fit(X_train, y_train)\n",
    "y_pred_dt = decision_tree.predict(X_test)\n",
    "dt_accuracy = accuracy_score(y_test, y_pred_dt)\n",
    "print(f\"Decision Tree Classifier Accuracy: {dt_accuracy:.5f}\")\n",
    "\n",
    "# Logistic Regression Classifier\n",
    "logistic_regression = LogisticRegression(max_iter=400)\n",
    "logistic_regression.fit(X_train, y_train)\n",
    "y_pred_lr = logistic_regression.predict(X_test)\n",
    "lr_accuracy = accuracy_score(y_test, y_pred_lr)\n",
    "print(f\"Logistic Regression Classifier Accuracy: {lr_accuracy:.5f}\")"
   ]
  },
  {
   "cell_type": "code",
   "execution_count": null,
   "id": "948ee37a-c8d7-4252-b5ed-71b3e119ec78",
   "metadata": {},
   "outputs": [],
   "source": [
    "#H. Perform Cross-Validation and Calculate Average Accuracy "
   ]
  },
  {
   "cell_type": "code",
   "execution_count": 34,
   "id": "a3de023a-cafa-4e81-b754-94430eb6efdc",
   "metadata": {},
   "outputs": [
    {
     "name": "stdout",
     "output_type": "stream",
     "text": [
      "KNN cross-validation accuracy scores: [0.61290323 0.7        0.6        0.7        0.7        0.53333333\n",
      " 0.73333333 0.76666667 0.56666667 0.76666667]\n",
      "Average KNN cross-validation accuracy: 0.6679569892473117\n",
      "Decision Tree cross-validation accuracy scores: [0.70967742 0.63333333 0.66666667 0.73333333 0.66666667 0.66666667\n",
      " 0.76666667 0.7        0.63333333 0.73333333]\n",
      "Average Decision Tree cross-validation accuracy: 0.6909677419354838\n"
     ]
    },
    {
     "name": "stderr",
     "output_type": "stream",
     "text": [
      "C:\\Users\\Viyok\\anaconda3\\Lib\\site-packages\\sklearn\\linear_model\\_logistic.py:469: ConvergenceWarning: lbfgs failed to converge (status=1):\n",
      "STOP: TOTAL NO. of ITERATIONS REACHED LIMIT.\n",
      "\n",
      "Increase the number of iterations (max_iter) or scale the data as shown in:\n",
      "    https://scikit-learn.org/stable/modules/preprocessing.html\n",
      "Please also refer to the documentation for alternative solver options:\n",
      "    https://scikit-learn.org/stable/modules/linear_model.html#logistic-regression\n",
      "  n_iter_i = _check_optimize_result(\n",
      "C:\\Users\\Viyok\\anaconda3\\Lib\\site-packages\\sklearn\\linear_model\\_logistic.py:469: ConvergenceWarning: lbfgs failed to converge (status=1):\n",
      "STOP: TOTAL NO. of ITERATIONS REACHED LIMIT.\n",
      "\n",
      "Increase the number of iterations (max_iter) or scale the data as shown in:\n",
      "    https://scikit-learn.org/stable/modules/preprocessing.html\n",
      "Please also refer to the documentation for alternative solver options:\n",
      "    https://scikit-learn.org/stable/modules/linear_model.html#logistic-regression\n",
      "  n_iter_i = _check_optimize_result(\n",
      "C:\\Users\\Viyok\\anaconda3\\Lib\\site-packages\\sklearn\\linear_model\\_logistic.py:469: ConvergenceWarning: lbfgs failed to converge (status=1):\n",
      "STOP: TOTAL NO. of ITERATIONS REACHED LIMIT.\n",
      "\n",
      "Increase the number of iterations (max_iter) or scale the data as shown in:\n",
      "    https://scikit-learn.org/stable/modules/preprocessing.html\n",
      "Please also refer to the documentation for alternative solver options:\n",
      "    https://scikit-learn.org/stable/modules/linear_model.html#logistic-regression\n",
      "  n_iter_i = _check_optimize_result(\n",
      "C:\\Users\\Viyok\\anaconda3\\Lib\\site-packages\\sklearn\\linear_model\\_logistic.py:469: ConvergenceWarning: lbfgs failed to converge (status=1):\n",
      "STOP: TOTAL NO. of ITERATIONS REACHED LIMIT.\n",
      "\n",
      "Increase the number of iterations (max_iter) or scale the data as shown in:\n",
      "    https://scikit-learn.org/stable/modules/preprocessing.html\n",
      "Please also refer to the documentation for alternative solver options:\n",
      "    https://scikit-learn.org/stable/modules/linear_model.html#logistic-regression\n",
      "  n_iter_i = _check_optimize_result(\n",
      "C:\\Users\\Viyok\\anaconda3\\Lib\\site-packages\\sklearn\\linear_model\\_logistic.py:469: ConvergenceWarning: lbfgs failed to converge (status=1):\n",
      "STOP: TOTAL NO. of ITERATIONS REACHED LIMIT.\n",
      "\n",
      "Increase the number of iterations (max_iter) or scale the data as shown in:\n",
      "    https://scikit-learn.org/stable/modules/preprocessing.html\n",
      "Please also refer to the documentation for alternative solver options:\n",
      "    https://scikit-learn.org/stable/modules/linear_model.html#logistic-regression\n",
      "  n_iter_i = _check_optimize_result(\n"
     ]
    },
    {
     "name": "stdout",
     "output_type": "stream",
     "text": [
      "Logistic Regression cross-validation accuracy scores: [0.80645161 0.8        0.83333333 0.93333333 0.93333333 0.66666667\n",
      " 0.76666667 0.7        0.73333333 0.73333333]\n",
      "Average Logistic Regression cross-validation accuracy: 0.7906451612903226\n"
     ]
    },
    {
     "name": "stderr",
     "output_type": "stream",
     "text": [
      "C:\\Users\\Viyok\\anaconda3\\Lib\\site-packages\\sklearn\\linear_model\\_logistic.py:469: ConvergenceWarning: lbfgs failed to converge (status=1):\n",
      "STOP: TOTAL NO. of ITERATIONS REACHED LIMIT.\n",
      "\n",
      "Increase the number of iterations (max_iter) or scale the data as shown in:\n",
      "    https://scikit-learn.org/stable/modules/preprocessing.html\n",
      "Please also refer to the documentation for alternative solver options:\n",
      "    https://scikit-learn.org/stable/modules/linear_model.html#logistic-regression\n",
      "  n_iter_i = _check_optimize_result(\n",
      "C:\\Users\\Viyok\\anaconda3\\Lib\\site-packages\\sklearn\\linear_model\\_logistic.py:469: ConvergenceWarning: lbfgs failed to converge (status=1):\n",
      "STOP: TOTAL NO. of ITERATIONS REACHED LIMIT.\n",
      "\n",
      "Increase the number of iterations (max_iter) or scale the data as shown in:\n",
      "    https://scikit-learn.org/stable/modules/preprocessing.html\n",
      "Please also refer to the documentation for alternative solver options:\n",
      "    https://scikit-learn.org/stable/modules/linear_model.html#logistic-regression\n",
      "  n_iter_i = _check_optimize_result(\n",
      "C:\\Users\\Viyok\\anaconda3\\Lib\\site-packages\\sklearn\\linear_model\\_logistic.py:469: ConvergenceWarning: lbfgs failed to converge (status=1):\n",
      "STOP: TOTAL NO. of ITERATIONS REACHED LIMIT.\n",
      "\n",
      "Increase the number of iterations (max_iter) or scale the data as shown in:\n",
      "    https://scikit-learn.org/stable/modules/preprocessing.html\n",
      "Please also refer to the documentation for alternative solver options:\n",
      "    https://scikit-learn.org/stable/modules/linear_model.html#logistic-regression\n",
      "  n_iter_i = _check_optimize_result(\n",
      "C:\\Users\\Viyok\\anaconda3\\Lib\\site-packages\\sklearn\\linear_model\\_logistic.py:469: ConvergenceWarning: lbfgs failed to converge (status=1):\n",
      "STOP: TOTAL NO. of ITERATIONS REACHED LIMIT.\n",
      "\n",
      "Increase the number of iterations (max_iter) or scale the data as shown in:\n",
      "    https://scikit-learn.org/stable/modules/preprocessing.html\n",
      "Please also refer to the documentation for alternative solver options:\n",
      "    https://scikit-learn.org/stable/modules/linear_model.html#logistic-regression\n",
      "  n_iter_i = _check_optimize_result(\n",
      "C:\\Users\\Viyok\\anaconda3\\Lib\\site-packages\\sklearn\\linear_model\\_logistic.py:469: ConvergenceWarning: lbfgs failed to converge (status=1):\n",
      "STOP: TOTAL NO. of ITERATIONS REACHED LIMIT.\n",
      "\n",
      "Increase the number of iterations (max_iter) or scale the data as shown in:\n",
      "    https://scikit-learn.org/stable/modules/preprocessing.html\n",
      "Please also refer to the documentation for alternative solver options:\n",
      "    https://scikit-learn.org/stable/modules/linear_model.html#logistic-regression\n",
      "  n_iter_i = _check_optimize_result(\n"
     ]
    }
   ],
   "source": [
    "# KNN\n",
    "knn_cv_scores = cross_val_score(knn, X_encoded, y_encoded, cv=10, scoring='accuracy')\n",
    "print(\"KNN cross-validation accuracy scores:\", knn_cv_scores)\n",
    "print(\"Average KNN cross-validation accuracy:\", knn_cv_scores.mean())\n",
    "\n",
    "# Decision Tree\n",
    "dt_cv_scores = cross_val_score(decision_tree, X_encoded, y_encoded, cv=10, scoring='accuracy')\n",
    "print(\"Decision Tree cross-validation accuracy scores:\", dt_cv_scores)\n",
    "print(\"Average Decision Tree cross-validation accuracy:\", dt_cv_scores.mean())\n",
    "\n",
    "# Logistic Regression\n",
    "lr_cv_scores = cross_val_score(logistic_regression, X_encoded, y_encoded, cv=10, scoring='accuracy')\n",
    "print(\"Logistic Regression cross-validation accuracy scores:\", lr_cv_scores)\n",
    "print(\"Average Logistic Regression cross-validation accuracy:\", lr_cv_scores.mean())"
   ]
  },
  {
   "cell_type": "code",
   "execution_count": null,
   "id": "d284a9c0-ca67-4feb-8850-c7fa51c9a08b",
   "metadata": {},
   "outputs": [],
   "source": []
  },
  {
   "cell_type": "code",
   "execution_count": null,
   "id": "4a6cdcb0-3c8c-4d0c-be11-500974f0c96e",
   "metadata": {},
   "outputs": [],
   "source": []
  },
  {
   "cell_type": "code",
   "execution_count": null,
   "id": "49ffea09-8f56-43a4-baf2-c6787bf12341",
   "metadata": {},
   "outputs": [],
   "source": []
  },
  {
   "cell_type": "code",
   "execution_count": null,
   "id": "fddac232-764e-45d9-a59e-160c2353d760",
   "metadata": {},
   "outputs": [],
   "source": []
  }
 ],
 "metadata": {
  "kernelspec": {
   "display_name": "Python 3 (ipykernel)",
   "language": "python",
   "name": "python3"
  },
  "language_info": {
   "codemirror_mode": {
    "name": "ipython",
    "version": 3
   },
   "file_extension": ".py",
   "mimetype": "text/x-python",
   "name": "python",
   "nbconvert_exporter": "python",
   "pygments_lexer": "ipython3",
   "version": "3.12.4"
  }
 },
 "nbformat": 4,
 "nbformat_minor": 5
}
