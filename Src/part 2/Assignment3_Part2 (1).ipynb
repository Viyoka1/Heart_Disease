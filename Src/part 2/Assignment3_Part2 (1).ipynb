{
 "cells": [
  {
   "cell_type": "code",
   "execution_count": null,
   "id": "28029da3-e0f0-45d5-b24d-94e4c2a6634a",
   "metadata": {},
   "outputs": [],
   "source": [
    "#A. Read the Data"
   ]
  },
  {
   "cell_type": "code",
   "execution_count": 2,
   "id": "be41ff31-91b3-4db0-9490-f99fcb467d6c",
   "metadata": {},
   "outputs": [
    {
     "data": {
      "text/html": [
       "<div>\n",
       "<style scoped>\n",
       "    .dataframe tbody tr th:only-of-type {\n",
       "        vertical-align: middle;\n",
       "    }\n",
       "\n",
       "    .dataframe tbody tr th {\n",
       "        vertical-align: top;\n",
       "    }\n",
       "\n",
       "    .dataframe thead th {\n",
       "        text-align: right;\n",
       "    }\n",
       "</style>\n",
       "<table border=\"1\" class=\"dataframe\">\n",
       "  <thead>\n",
       "    <tr style=\"text-align: right;\">\n",
       "      <th></th>\n",
       "      <th>Income</th>\n",
       "      <th>Limit</th>\n",
       "      <th>Rating</th>\n",
       "      <th>Cards</th>\n",
       "      <th>Age</th>\n",
       "      <th>Education</th>\n",
       "      <th>Married</th>\n",
       "      <th>Balance</th>\n",
       "    </tr>\n",
       "  </thead>\n",
       "  <tbody>\n",
       "    <tr>\n",
       "      <th>0</th>\n",
       "      <td>14.891</td>\n",
       "      <td>3606</td>\n",
       "      <td>283</td>\n",
       "      <td>2</td>\n",
       "      <td>34</td>\n",
       "      <td>11</td>\n",
       "      <td>1</td>\n",
       "      <td>333</td>\n",
       "    </tr>\n",
       "    <tr>\n",
       "      <th>1</th>\n",
       "      <td>106.025</td>\n",
       "      <td>6645</td>\n",
       "      <td>483</td>\n",
       "      <td>3</td>\n",
       "      <td>82</td>\n",
       "      <td>15</td>\n",
       "      <td>1</td>\n",
       "      <td>903</td>\n",
       "    </tr>\n",
       "    <tr>\n",
       "      <th>2</th>\n",
       "      <td>104.593</td>\n",
       "      <td>7075</td>\n",
       "      <td>514</td>\n",
       "      <td>4</td>\n",
       "      <td>71</td>\n",
       "      <td>11</td>\n",
       "      <td>0</td>\n",
       "      <td>580</td>\n",
       "    </tr>\n",
       "    <tr>\n",
       "      <th>3</th>\n",
       "      <td>148.924</td>\n",
       "      <td>9504</td>\n",
       "      <td>681</td>\n",
       "      <td>3</td>\n",
       "      <td>36</td>\n",
       "      <td>11</td>\n",
       "      <td>0</td>\n",
       "      <td>964</td>\n",
       "    </tr>\n",
       "    <tr>\n",
       "      <th>4</th>\n",
       "      <td>55.882</td>\n",
       "      <td>4897</td>\n",
       "      <td>357</td>\n",
       "      <td>2</td>\n",
       "      <td>68</td>\n",
       "      <td>16</td>\n",
       "      <td>1</td>\n",
       "      <td>331</td>\n",
       "    </tr>\n",
       "  </tbody>\n",
       "</table>\n",
       "</div>"
      ],
      "text/plain": [
       "    Income  Limit  Rating  Cards  Age  Education  Married  Balance\n",
       "0   14.891   3606     283      2   34         11        1      333\n",
       "1  106.025   6645     483      3   82         15        1      903\n",
       "2  104.593   7075     514      4   71         11        0      580\n",
       "3  148.924   9504     681      3   36         11        0      964\n",
       "4   55.882   4897     357      2   68         16        1      331"
      ]
     },
     "execution_count": 2,
     "metadata": {},
     "output_type": "execute_result"
    }
   ],
   "source": [
    "import pandas as pd\n",
    "\n",
    "df = pd.read_csv(r'C:\\Users\\Viyok\\Downloads\\Credit.csv')\n",
    "df.head()"
   ]
  },
  {
   "cell_type": "code",
   "execution_count": null,
   "id": "65df9867-e203-4880-87d9-fc32c8e738d7",
   "metadata": {},
   "outputs": [],
   "source": [
    "#B. Check the datset's strucuture"
   ]
  },
  {
   "cell_type": "code",
   "execution_count": 6,
   "id": "6dcedd67-2b4a-4edd-ad7c-22fd097c744c",
   "metadata": {},
   "outputs": [
    {
     "name": "stdout",
     "output_type": "stream",
     "text": [
      "<class 'pandas.core.frame.DataFrame'>\n",
      "RangeIndex: 400 entries, 0 to 399\n",
      "Data columns (total 8 columns):\n",
      " #   Column     Non-Null Count  Dtype  \n",
      "---  ------     --------------  -----  \n",
      " 0   Income     400 non-null    float64\n",
      " 1   Limit      400 non-null    int64  \n",
      " 2   Rating     400 non-null    int64  \n",
      " 3   Cards      400 non-null    int64  \n",
      " 4   Age        400 non-null    int64  \n",
      " 5   Education  400 non-null    int64  \n",
      " 6   Married    400 non-null    int64  \n",
      " 7   Balance    400 non-null    int64  \n",
      "dtypes: float64(1), int64(7)\n",
      "memory usage: 25.1 KB\n"
     ]
    },
    {
     "data": {
      "text/html": [
       "<div>\n",
       "<style scoped>\n",
       "    .dataframe tbody tr th:only-of-type {\n",
       "        vertical-align: middle;\n",
       "    }\n",
       "\n",
       "    .dataframe tbody tr th {\n",
       "        vertical-align: top;\n",
       "    }\n",
       "\n",
       "    .dataframe thead th {\n",
       "        text-align: right;\n",
       "    }\n",
       "</style>\n",
       "<table border=\"1\" class=\"dataframe\">\n",
       "  <thead>\n",
       "    <tr style=\"text-align: right;\">\n",
       "      <th></th>\n",
       "      <th>Income</th>\n",
       "      <th>Limit</th>\n",
       "      <th>Rating</th>\n",
       "      <th>Cards</th>\n",
       "      <th>Age</th>\n",
       "      <th>Education</th>\n",
       "      <th>Married</th>\n",
       "      <th>Balance</th>\n",
       "    </tr>\n",
       "  </thead>\n",
       "  <tbody>\n",
       "    <tr>\n",
       "      <th>count</th>\n",
       "      <td>400.000000</td>\n",
       "      <td>400.000000</td>\n",
       "      <td>400.000000</td>\n",
       "      <td>400.000000</td>\n",
       "      <td>400.000000</td>\n",
       "      <td>400.000000</td>\n",
       "      <td>400.00000</td>\n",
       "      <td>400.000000</td>\n",
       "    </tr>\n",
       "    <tr>\n",
       "      <th>mean</th>\n",
       "      <td>45.218885</td>\n",
       "      <td>4735.600000</td>\n",
       "      <td>354.940000</td>\n",
       "      <td>2.957500</td>\n",
       "      <td>55.667500</td>\n",
       "      <td>13.450000</td>\n",
       "      <td>0.61250</td>\n",
       "      <td>520.015000</td>\n",
       "    </tr>\n",
       "    <tr>\n",
       "      <th>std</th>\n",
       "      <td>35.244273</td>\n",
       "      <td>2308.198848</td>\n",
       "      <td>154.724143</td>\n",
       "      <td>1.371275</td>\n",
       "      <td>17.249807</td>\n",
       "      <td>3.125207</td>\n",
       "      <td>0.48779</td>\n",
       "      <td>459.758877</td>\n",
       "    </tr>\n",
       "    <tr>\n",
       "      <th>min</th>\n",
       "      <td>10.354000</td>\n",
       "      <td>855.000000</td>\n",
       "      <td>93.000000</td>\n",
       "      <td>1.000000</td>\n",
       "      <td>23.000000</td>\n",
       "      <td>5.000000</td>\n",
       "      <td>0.00000</td>\n",
       "      <td>0.000000</td>\n",
       "    </tr>\n",
       "    <tr>\n",
       "      <th>25%</th>\n",
       "      <td>21.007250</td>\n",
       "      <td>3088.000000</td>\n",
       "      <td>247.250000</td>\n",
       "      <td>2.000000</td>\n",
       "      <td>41.750000</td>\n",
       "      <td>11.000000</td>\n",
       "      <td>0.00000</td>\n",
       "      <td>68.750000</td>\n",
       "    </tr>\n",
       "    <tr>\n",
       "      <th>50%</th>\n",
       "      <td>33.115500</td>\n",
       "      <td>4622.500000</td>\n",
       "      <td>344.000000</td>\n",
       "      <td>3.000000</td>\n",
       "      <td>56.000000</td>\n",
       "      <td>14.000000</td>\n",
       "      <td>1.00000</td>\n",
       "      <td>459.500000</td>\n",
       "    </tr>\n",
       "    <tr>\n",
       "      <th>75%</th>\n",
       "      <td>57.470750</td>\n",
       "      <td>5872.750000</td>\n",
       "      <td>437.250000</td>\n",
       "      <td>4.000000</td>\n",
       "      <td>70.000000</td>\n",
       "      <td>16.000000</td>\n",
       "      <td>1.00000</td>\n",
       "      <td>863.000000</td>\n",
       "    </tr>\n",
       "    <tr>\n",
       "      <th>max</th>\n",
       "      <td>186.634000</td>\n",
       "      <td>13913.000000</td>\n",
       "      <td>982.000000</td>\n",
       "      <td>9.000000</td>\n",
       "      <td>98.000000</td>\n",
       "      <td>20.000000</td>\n",
       "      <td>1.00000</td>\n",
       "      <td>1999.000000</td>\n",
       "    </tr>\n",
       "  </tbody>\n",
       "</table>\n",
       "</div>"
      ],
      "text/plain": [
       "           Income         Limit      Rating       Cards         Age  \\\n",
       "count  400.000000    400.000000  400.000000  400.000000  400.000000   \n",
       "mean    45.218885   4735.600000  354.940000    2.957500   55.667500   \n",
       "std     35.244273   2308.198848  154.724143    1.371275   17.249807   \n",
       "min     10.354000    855.000000   93.000000    1.000000   23.000000   \n",
       "25%     21.007250   3088.000000  247.250000    2.000000   41.750000   \n",
       "50%     33.115500   4622.500000  344.000000    3.000000   56.000000   \n",
       "75%     57.470750   5872.750000  437.250000    4.000000   70.000000   \n",
       "max    186.634000  13913.000000  982.000000    9.000000   98.000000   \n",
       "\n",
       "        Education    Married      Balance  \n",
       "count  400.000000  400.00000   400.000000  \n",
       "mean    13.450000    0.61250   520.015000  \n",
       "std      3.125207    0.48779   459.758877  \n",
       "min      5.000000    0.00000     0.000000  \n",
       "25%     11.000000    0.00000    68.750000  \n",
       "50%     14.000000    1.00000   459.500000  \n",
       "75%     16.000000    1.00000   863.000000  \n",
       "max     20.000000    1.00000  1999.000000  "
      ]
     },
     "execution_count": 6,
     "metadata": {},
     "output_type": "execute_result"
    }
   ],
   "source": [
    "# Check the dataset's structure\n",
    "df.info()\n",
    "\n",
    "# Display summary statisitics for numerical columns\n",
    "df.describe()"
   ]
  },
  {
   "cell_type": "code",
   "execution_count": null,
   "id": "93253c6a-3879-4135-a206-7687e6ecca39",
   "metadata": {},
   "outputs": [],
   "source": [
    "#C.Generate the feature matrix and target vector (target is “balance” in this dataset). "
   ]
  },
  {
   "cell_type": "code",
   "execution_count": 10,
   "id": "d2e1a2be-2a9a-4006-b108-6bdb8c7d126e",
   "metadata": {},
   "outputs": [
    {
     "name": "stdout",
     "output_type": "stream",
     "text": [
      "Feature Matrix (first 5 rows):\n",
      "    Income  Limit  Rating  Cards  Age  Education  Married\n",
      "0   14.891   3606     283      2   34         11        1\n",
      "1  106.025   6645     483      3   82         15        1\n",
      "2  104.593   7075     514      4   71         11        0\n",
      "3  148.924   9504     681      3   36         11        0\n",
      "4   55.882   4897     357      2   68         16        1\n"
     ]
    }
   ],
   "source": [
    "# Selecting specific columns for the feature matrix\n",
    "feature_cols = ['Income', 'Limit', 'Rating', 'Cards', 'Age', 'Education', 'Married']\n",
    "X = df[feature_cols]  # Feature matrix\n",
    "y = df['Balance']  # Target vector\n",
    "\n",
    "# Display the first 5 rows of the feature matrix\n",
    "print(\"Feature Matrix (first 5 rows):\")\n",
    "print(X.head())"
   ]
  },
  {
   "cell_type": "code",
   "execution_count": 14,
   "id": "24327e5f-af9c-4b78-b1c1-a7e923d317b6",
   "metadata": {},
   "outputs": [
    {
     "data": {
      "text/html": [
       "<div>\n",
       "<style scoped>\n",
       "    .dataframe tbody tr th:only-of-type {\n",
       "        vertical-align: middle;\n",
       "    }\n",
       "\n",
       "    .dataframe tbody tr th {\n",
       "        vertical-align: top;\n",
       "    }\n",
       "\n",
       "    .dataframe thead th {\n",
       "        text-align: right;\n",
       "    }\n",
       "</style>\n",
       "<table border=\"1\" class=\"dataframe\">\n",
       "  <thead>\n",
       "    <tr style=\"text-align: right;\">\n",
       "      <th></th>\n",
       "      <th>Balance</th>\n",
       "    </tr>\n",
       "  </thead>\n",
       "  <tbody>\n",
       "    <tr>\n",
       "      <th>0</th>\n",
       "      <td>333</td>\n",
       "    </tr>\n",
       "    <tr>\n",
       "      <th>1</th>\n",
       "      <td>903</td>\n",
       "    </tr>\n",
       "    <tr>\n",
       "      <th>2</th>\n",
       "      <td>580</td>\n",
       "    </tr>\n",
       "    <tr>\n",
       "      <th>3</th>\n",
       "      <td>964</td>\n",
       "    </tr>\n",
       "    <tr>\n",
       "      <th>4</th>\n",
       "      <td>331</td>\n",
       "    </tr>\n",
       "  </tbody>\n",
       "</table>\n",
       "</div>"
      ],
      "text/plain": [
       "   Balance\n",
       "0      333\n",
       "1      903\n",
       "2      580\n",
       "3      964\n",
       "4      331"
      ]
     },
     "execution_count": 14,
     "metadata": {},
     "output_type": "execute_result"
    }
   ],
   "source": [
    "#Target vector\n",
    "y = df[['Balance']]\n",
    "y.head()"
   ]
  },
  {
   "cell_type": "code",
   "execution_count": null,
   "id": "dc2d66d0-71d2-4c68-8633-66a3e9cb4b5b",
   "metadata": {},
   "outputs": [],
   "source": [
    "#D.Split the dataset into testing and training sets with the following parameters: test_size=0.24, random_state=9."
   ]
  },
  {
   "cell_type": "code",
   "execution_count": 12,
   "id": "af9ab1ef-ccd0-42a0-af00-c208030aaec2",
   "metadata": {},
   "outputs": [],
   "source": [
    "from sklearn.model_selection import train_test_split\n",
    "\n",
    "# Split the dataset into training and testing sets\n",
    "X_train, X_test, y_train, y_test = train_test_split(X, y, test_size=0.24, random_state=9)"
   ]
  },
  {
   "cell_type": "code",
   "execution_count": 18,
   "id": "32e3a6b5-9dc3-43f3-bb3b-74b1b900a4c6",
   "metadata": {},
   "outputs": [],
   "source": [
    "#E.Now, normalize (scale) the features. To normalize the data, you can simply use StandardScaler  from sklearn. (note: don’t normalize the target!). \n",
    "#Remember that we can only use the statistics of X_train for normalization, and then apply it on both X_train and X_test:"
   ]
  },
  {
   "cell_type": "code",
   "execution_count": 20,
   "id": "e18c29c5-516e-47e8-b793-37e43cd00449",
   "metadata": {},
   "outputs": [],
   "source": [
    "from sklearn.preprocessing import StandardScaler\n",
    "\n",
    "# Initialize the scaler and fit it on the training data only\n",
    "scaler = StandardScaler()\n",
    "X_train_normalized = scaler.fit_transform(X_train)\n",
    "X_test_normalized = scaler.transform(X_test)\n"
   ]
  },
  {
   "cell_type": "code",
   "execution_count": 22,
   "id": "c3ffd0dd-8b1e-4472-a53a-b5376bf596d8",
   "metadata": {},
   "outputs": [],
   "source": [
    "#F.Use Linear Regression to train a linear model on the training set. Check the coefficients of the linear regression model. \n",
    "# Which feature is the most important? Which feature is the least important? "
   ]
  },
  {
   "cell_type": "code",
   "execution_count": 24,
   "id": "260b50a4-8d98-46dd-96f8-8ad9e744e1ad",
   "metadata": {},
   "outputs": [
    {
     "name": "stdout",
     "output_type": "stream",
     "text": [
      "Feature Importance (sorted by coefficient):\n",
      "Limit        373.757958\n",
      "Rating       261.945404\n",
      "Cards         24.838103\n",
      "Education     11.551102\n",
      "Married       -9.901947\n",
      "Age          -17.508705\n",
      "Income      -280.210428\n",
      "dtype: float64\n"
     ]
    }
   ],
   "source": [
    "from sklearn.linear_model import LinearRegression\n",
    "\n",
    "# Initialize and train the linear regression model\n",
    "linear_regression = LinearRegression()\n",
    "linear_regression.fit(X_train_normalized, y_train)\n",
    "\n",
    "# Retrieve and display feature coefficients\n",
    "coefficients = pd.Series(linear_regression.coef_, index=X.columns)\n",
    "coefficients_sorted = coefficients.sort_values(ascending=False)\n",
    "\n",
    "print(\"Feature Importance (sorted by coefficient):\")\n",
    "print(coefficients_sorted)\n"
   ]
  },
  {
   "cell_type": "code",
   "execution_count": null,
   "id": "6cee09d0-b6e2-4057-bd70-10e70b5d3719",
   "metadata": {},
   "outputs": [],
   "source": [
    "#G.Predict Balance on the Testing Set and Calculate RMSE"
   ]
  },
  {
   "cell_type": "code",
   "execution_count": 26,
   "id": "379b96a8-9c39-4a67-805f-4ade1ad960f0",
   "metadata": {},
   "outputs": [
    {
     "name": "stdout",
     "output_type": "stream",
     "text": [
      "RMSE on Testing Set: 143.25\n"
     ]
    }
   ],
   "source": [
    "from sklearn.metrics import mean_squared_error\n",
    "import numpy as np\n",
    "\n",
    "# Predict the balance for the testing set\n",
    "y_pred = linear_regression.predict(X_test_normalized)\n",
    "\n",
    "# Calculate the Root Mean Square Error (RMSE)\n",
    "rmse = np.sqrt(mean_squared_error(y_test, y_pred))\n",
    "print(f\"RMSE on Testing Set: {rmse:.2f}\")"
   ]
  },
  {
   "cell_type": "code",
   "execution_count": null,
   "id": "7a370751-7c9c-4d88-a630-2643c4a8bc20",
   "metadata": {},
   "outputs": [],
   "source": [
    "#H.Use 10-Fold Cross-Validation to Evaluate Performance with Normalization"
   ]
  },
  {
   "cell_type": "code",
   "execution_count": 28,
   "id": "524acbab-0d56-44b7-8edc-af11906ba98a",
   "metadata": {},
   "outputs": [
    {
     "name": "stdout",
     "output_type": "stream",
     "text": [
      "Cross-Validation RMSE for each fold: [153.7754992  178.89394627 188.31527914 193.20353826 119.75525901\n",
      " 183.38039983 177.85385343 111.76315739 144.04725656 152.331702  ]\n",
      "Average RMSE from 10-Fold Cross-Validation: 160.33\n"
     ]
    }
   ],
   "source": [
    "from sklearn.pipeline import make_pipeline\n",
    "from sklearn.model_selection import cross_val_score\n",
    "\n",
    "# Create a pipeline that combines normalization and linear regression\n",
    "pipeline = make_pipeline(StandardScaler(), LinearRegression())\n",
    "\n",
    "# Perform 10-fold cross-validation with RMSE as the scoring metric\n",
    "mse_scores = cross_val_score(pipeline, X, y, cv=10, scoring='neg_mean_squared_error')\n",
    "rmse_scores = np.sqrt(-mse_scores)  # Convert negative MSE to positive RMSE\n",
    "\n",
    "# Calculate and print the average RMSE across all folds\n",
    "print(\"Cross-Validation RMSE for each fold:\", rmse_scores)\n",
    "print(f\"Average RMSE from 10-Fold Cross-Validation: {rmse_scores.mean():.2f}\")"
   ]
  },
  {
   "cell_type": "code",
   "execution_count": null,
   "id": "ad41c0d3-a3d7-48fb-b8f5-cc3d0723faad",
   "metadata": {},
   "outputs": [],
   "source": []
  },
  {
   "cell_type": "code",
   "execution_count": null,
   "id": "5ae43c9d-40de-4bc2-bd3e-fb4b65f2cb5b",
   "metadata": {},
   "outputs": [],
   "source": []
  },
  {
   "cell_type": "code",
   "execution_count": null,
   "id": "d2ade310-0f84-48be-9caf-984554107507",
   "metadata": {},
   "outputs": [],
   "source": []
  },
  {
   "cell_type": "code",
   "execution_count": null,
   "id": "9b874200-907d-45d5-84a8-c4024569497b",
   "metadata": {},
   "outputs": [],
   "source": []
  }
 ],
 "metadata": {
  "kernelspec": {
   "display_name": "Python 3 (ipykernel)",
   "language": "python",
   "name": "python3"
  },
  "language_info": {
   "codemirror_mode": {
    "name": "ipython",
    "version": 3
   },
   "file_extension": ".py",
   "mimetype": "text/x-python",
   "name": "python",
   "nbconvert_exporter": "python",
   "pygments_lexer": "ipython3",
   "version": "3.12.4"
  }
 },
 "nbformat": 4,
 "nbformat_minor": 5
}
